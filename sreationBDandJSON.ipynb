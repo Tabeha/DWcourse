{
  "nbformat": 4,
  "nbformat_minor": 0,
  "metadata": {
    "colab": {
      "provenance": []
    },
    "kernelspec": {
      "name": "python3",
      "display_name": "Python 3"
    },
    "language_info": {
      "name": "python"
    }
  },
  "cells": [
    {
      "cell_type": "code",
      "execution_count": null,
      "metadata": {
        "id": "Ysm49FV93AFg"
      },
      "outputs": [],
      "source": [
        "import psycopg2\n",
        "import csv"
      ]
    },
    {
      "cell_type": "markdown",
      "source": [
        "here i connect to db and create a new bd after this i load data wich i got from main(parser) i have another file which take data from this bd and convert it in json this json i send in server.js but you can uncommite code in server.js and after connecting to db,launch server.js from browser."
      ],
      "metadata": {
        "id": "RSznMJWH44IY"
      }
    },
    {
      "cell_type": "code",
      "source": [
        "# Database connection parameters\n",
        "DB_NAME = \"movies_db\"  # Change to your preferred database name\n",
        "USER = \"postgres\"\n",
        "PASSWORD = \"tupakill3\"\n",
        "HOST = \"localhost\"\n",
        "PORT = \"5432\"\n",
        "\n",
        "# Connect to PostgreSQL (without specifying a database) to create the DB first\n",
        "conn = psycopg2.connect(\n",
        "    dbname=\"postgres\", user=USER, password=PASSWORD, host=HOST, port=PORT\n",
        ")\n",
        "conn.autocommit = True\n",
        "cur = conn.cursor()\n",
        "\n",
        "# Create the database if it does not exist\n",
        "cur.execute(f\"SELECT 1 FROM pg_database WHERE datname = '{DB_NAME}';\")\n",
        "exists = cur.fetchone()\n",
        "if not exists:\n",
        "    cur.execute(f\"CREATE DATABASE {DB_NAME};\")\n",
        "    print(f\"Database '{DB_NAME}' created successfully.\")\n",
        "else:\n",
        "    print(f\"Database '{DB_NAME}' already exists.\")\n",
        "\n",
        "cur.close()\n",
        "conn.close()"
      ],
      "metadata": {
        "id": "LGYzAXjD4zXF"
      },
      "execution_count": null,
      "outputs": []
    },
    {
      "cell_type": "code",
      "source": [
        "# Connect to the newly created database\n",
        "conn = psycopg2.connect(\n",
        "    dbname=DB_NAME, user=USER, password=PASSWORD, host=HOST, port=PORT\n",
        ")\n",
        "cur = conn.cursor()\n",
        "\n",
        "# Create the 'movies' table inside the 'parsee' schema\n",
        "cur.execute(\"\"\"\n",
        "    CREATE SCHEMA IF NOT EXISTS parsee;\n",
        "    CREATE TABLE IF NOT EXISTS parsee.movies (\n",
        "        rank SERIAL PRIMARY KEY,\n",
        "        year INT NOT NULL,\n",
        "        title TEXT NOT NULL,\n",
        "        gross TEXT NOT NULL,\n",
        "        director TEXT NOT NULL,\n",
        "        country TEXT NOT NULL\n",
        "    );\n",
        "\"\"\")\n",
        "\n",
        "# Clear existing data before inserting new records\n",
        "cur.execute(\"TRUNCATE TABLE parsee.movies RESTART IDENTITY;\")\n",
        "\n",
        "# Load data from CSV\n",
        "with open(\"top_movies.csv\", \"r\", newline=\"\", encoding=\"utf-8\") as csvfile:\n",
        "    data = csv.reader(csvfile, delimiter=\",\")\n",
        "    next(data)  # Skip header row\n",
        "\n",
        "    cur.executemany(\n",
        "        \"INSERT INTO parsee.movies (title, year, gross, director, country) VALUES (%s, %s, %s, %s, %s);\",\n",
        "        data\n",
        "    )\n",
        "\n",
        "conn.commit()\n",
        "print(\"Data successfully inserted into the database.\")\n",
        "\n",
        "cur.close()\n",
        "conn.close()"
      ],
      "metadata": {
        "id": "483wsRyN40JW"
      },
      "execution_count": null,
      "outputs": []
    }
  ]
}