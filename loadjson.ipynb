{
  "nbformat": 4,
  "nbformat_minor": 0,
  "metadata": {
    "colab": {
      "provenance": []
    },
    "kernelspec": {
      "name": "python3",
      "display_name": "Python 3"
    },
    "language_info": {
      "name": "python"
    }
  },
  "cells": [
    {
      "cell_type": "code",
      "execution_count": null,
      "metadata": {
        "id": "feIVR6_I6WMT"
      },
      "outputs": [],
      "source": [
        "import psycopg2\n",
        "import json\n"
      ]
    },
    {
      "cell_type": "code",
      "source": [
        "conn = psycopg2.connect(\n",
        "    dbname=\"movies_db\",\n",
        "    user=\"postgres\",\n",
        "    password=\"tupakill3\",\n",
        "    host=\"localhost\",\n",
        "    port=\"5432\"\n",
        ")"
      ],
      "metadata": {
        "id": "uDDys_ke6759"
      },
      "execution_count": null,
      "outputs": []
    },
    {
      "cell_type": "code",
      "source": [
        "cursor = conn.cursor()\n",
        "\n",
        "\n",
        "cursor.execute(\"SELECT * FROM movies\")\n",
        "\n",
        "\n",
        "films = cursor.fetchall()\n",
        "\n",
        "\n",
        "columns = [desc[0] for desc in cursor.description]\n",
        "\n",
        "\n",
        "films_list = [dict(zip(columns, row)) for row in films]\n",
        "\n",
        "with open(\"films.json\", \"w\", encoding=\"utf-8\") as json_file:\n",
        "    json.dump(films_list, json_file, ensure_ascii=False, indent=4)\n",
        "\n",
        "cursor.close()\n",
        "conn.close()\n"
      ],
      "metadata": {
        "id": "wwCE7Fpp69O_"
      },
      "execution_count": null,
      "outputs": []
    }
  ]
}